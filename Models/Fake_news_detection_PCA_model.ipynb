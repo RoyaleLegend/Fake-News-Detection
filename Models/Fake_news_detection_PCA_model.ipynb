{
  "nbformat": 4,
  "nbformat_minor": 0,
  "metadata": {
    "colab": {
      "provenance": []
    },
    "kernelspec": {
      "name": "python3",
      "display_name": "Python 3"
    },
    "language_info": {
      "name": "python"
    }
  },
  "cells": [
    {
      "cell_type": "code",
      "execution_count": 1,
      "metadata": {
        "id": "em4oykohKFAP"
      },
      "outputs": [],
      "source": [
        "# Import necessary libraries for data analysis and preprocessing\n",
        "import pandas as pd\n",
        "import numpy as np\n",
        "from sklearn.metrics import accuracy_score\n",
        "from sklearn.metrics import roc_auc_score\n",
        "import tensorflow as tf\n",
        "from sklearn.feature_extraction.text import TfidfVectorizer\n",
        "from sklearn.model_selection import train_test_split,KFold\n",
        "from sklearn.preprocessing import LabelEncoder\n",
        "from sklearn.metrics import classification_report, confusion_matrix\n",
        "import matplotlib.pyplot as plt\n",
        "import pickle\n",
        "import joblib\n",
        "from nltk.corpus import stopwords\n",
        "from nltk.stem.porter import PorterStemmer\n",
        "from sklearn.linear_model import LogisticRegression\n",
        "\n",
        "import re\n",
        "import nltk\n",
        "from sklearn.decomposition import PCA\n",
        "from sklearn.preprocessing import StandardScaler\n"
      ]
    },
    {
      "cell_type": "code",
      "source": [
        "#mounting drive \n",
        "from google.colab import drive\n",
        "drive.mount('/content/drive')\n"
      ],
      "metadata": {
        "id": "EFILpgkQKe5s",
        "colab": {
          "base_uri": "https://localhost:8080/"
        },
        "outputId": "6e01dccc-a56b-401f-996e-0595a6fb8913"
      },
      "execution_count": 2,
      "outputs": [
        {
          "output_type": "stream",
          "name": "stdout",
          "text": [
            "Drive already mounted at /content/drive; to attempt to forcibly remount, call drive.mount(\"/content/drive\", force_remount=True).\n"
          ]
        }
      ]
    },
    {
      "cell_type": "code",
      "source": [
        "#Load dataset\n",
        "df = pd.read_csv(\"/content/drive/MyDrive/ML Project/Datasets for the Detection.csv\", delimiter='\\t')\n",
        "\n",
        "\n",
        "# Change the column name\n",
        "new_col_names = {'ï»¿Label': 'Label'}\n",
        "df = df.rename(columns=new_col_names)\n",
        "\n",
        "\n",
        "# Drop an irrelevant column from the dataset\n",
        "df.drop(['Unnamed: 2'], axis=1, inplace=True)\n",
        "\n",
        "# Create a copy of the dataset\n",
        "df2 = df.copy()\n",
        "\n",
        "# Remove rows with missing values from the dataset\n",
        "df = df.dropna()\n",
        "\n",
        "# Reset the index of the dataset\n",
        "df2.reset_index(inplace=True)\n",
        "\n"
      ],
      "metadata": {
        "id": "Rgp3IHmiKOY8"
      },
      "execution_count": 3,
      "outputs": []
    },
    {
      "cell_type": "code",
      "source": [
        "# Download stopwords\n",
        "nltk.download('stopwords')\n",
        "\n",
        "# Initialize stemmer\n",
        "ps = PorterStemmer()\n",
        "\n"
      ],
      "metadata": {
        "id": "ZpF7EGw7Ksuz",
        "colab": {
          "base_uri": "https://localhost:8080/"
        },
        "outputId": "e2aa84b5-0ec0-448f-f2e9-19bde36b91dc"
      },
      "execution_count": 4,
      "outputs": [
        {
          "output_type": "stream",
          "name": "stderr",
          "text": [
            "[nltk_data] Downloading package stopwords to /root/nltk_data...\n",
            "[nltk_data]   Package stopwords is already up-to-date!\n"
          ]
        }
      ]
    },
    {
      "cell_type": "code",
      "source": [
        "# Preprocess the data\n",
        "corpus = []\n",
        "for i in range(len(df)):\n",
        "\n",
        "    review = re.sub('[^a-zA-Z]', ' ', df['News'][i])\n",
        "    review = review.lower()\n",
        "    review = review.split()\n",
        "    review = [ps.stem(word) for word in review if not word in stopwords.words('english')]\n",
        "    review = ' '.join(review)\n",
        "    corpus.append(review)\n",
        "\n",
        "\n"
      ],
      "metadata": {
        "id": "piNyEPAUKRP2"
      },
      "execution_count": 5,
      "outputs": []
    },
    {
      "cell_type": "code",
      "source": [
        "# Create a TF-IDF vectorizer\n",
        "tfidf_v = TfidfVectorizer(max_features=5000, ngram_range=(1,3))\n",
        "\n",
        "# Vectorize the corpus\n",
        "X = tfidf_v.fit_transform(corpus).toarray()\n",
        "y = df['Label']\n",
        "\n"
      ],
      "metadata": {
        "id": "UpV7069NKTKr"
      },
      "execution_count": 6,
      "outputs": []
    },
    {
      "cell_type": "code",
      "source": [
        "# Convert labels to binary classes\n",
        "y_binary = np.where(y == 'Real', 1, 0)\n",
        "\n",
        "# Perform k-fold cross-validation with k=3\n",
        "kfold = KFold(n_splits=3, shuffle=True, random_state=0)"
      ],
      "metadata": {
        "id": "1xuI8nU_KUJn"
      },
      "execution_count": 7,
      "outputs": []
    },
    {
      "cell_type": "code",
      "source": [
        "# Create and train the logistic regression model\n",
        "model = LogisticRegression()\n",
        "\n",
        "print(\"PCA Model:  \")\n",
        "i=1\n",
        "for train_index, test_index in kfold.split(X):\n",
        "    X_train, X_test = X[train_index], X[test_index]\n",
        "    y_train, y_test = y_binary[train_index], y_binary[test_index]\n",
        "\n",
        "    # Apply PCA for dimensionality reduction\n",
        "    pca = PCA(n_components=1000)\n",
        "\n",
        "\n",
        "    # Fit PCA on the training data and transform both training and testing data\n",
        "    X_train_pca = pca.fit_transform(X_train)\n",
        "    X_test_pca = pca.transform(X_test)\n",
        "\n",
        "    # Normalize the data\n",
        "    scaler = StandardScaler()\n",
        "    X_train_pca = scaler.fit_transform(X_train_pca)\n",
        "    X_test_pca = scaler.transform(X_test_pca)\n",
        "\n",
        "\n",
        "    model.fit(X_train_pca, y_train)\n",
        "\n",
        "    # Predict the labels for the test data\n",
        "    y_pred = model.predict(X_test_pca)\n",
        "\n",
        "    # Predict the labels for the training data\n",
        "    y_train_pred = model.predict(X_train_pca)\n",
        "\n",
        "    print(\"Fold:  \",i)\n",
        "\n",
        "    print(\"PCA Model:  \")\n",
        "    print(\"Training Metrics: \")\n",
        "    # Print the training metrics\n",
        "    print('Training Accuracy:', accuracy_score(y_train, y_train_pred))\n",
        "    print('Training Classification Report:')\n",
        "    print(classification_report(y_train, y_train_pred))\n",
        "    print('Training Confusion Matrix:')\n",
        "    print(confusion_matrix(y_train, y_train_pred))\n",
        "\n",
        "    # Calculate ROC AUC\n",
        "    roc_auc = roc_auc_score(y_train, y_train_pred)\n",
        "    print('Test ROC AUC:', roc_auc)\n",
        "\n",
        "\n",
        "    print(\"\\n\\nTesting Metrics: \")\n",
        "\n",
        "\n",
        "    # Evaluate the model\n",
        "    print('Accuracy:', accuracy_score(y_test, y_pred))\n",
        "    print('Classification Report:')\n",
        "    print(classification_report(y_test, y_pred))\n",
        "    print('Confusion Matrix:')\n",
        "    print(confusion_matrix(y_test, y_pred))\n",
        "\n",
        "    # Calculate ROC AUC\n",
        "    roc_auc = roc_auc_score(y_test, y_pred)\n",
        "    print('Test ROC AUC:', roc_auc)\n",
        "\n",
        "    i=i+1\n"
      ],
      "metadata": {
        "id": "qQl3Z-ShKWIl",
        "colab": {
          "base_uri": "https://localhost:8080/"
        },
        "outputId": "60268f07-0022-4889-83d0-6dee14947e82"
      },
      "execution_count": 8,
      "outputs": [
        {
          "output_type": "stream",
          "name": "stdout",
          "text": [
            "PCA Model:  \n",
            "Fold:   1\n",
            "PCA Model:  \n",
            "Training Metrics: \n",
            "Training Accuracy: 0.8766744131394104\n",
            "Training Classification Report:\n",
            "              precision    recall  f1-score   support\n",
            "\n",
            "           0       0.88      0.88      0.88     20019\n",
            "           1       0.87      0.87      0.87     18278\n",
            "\n",
            "    accuracy                           0.88     38297\n",
            "   macro avg       0.88      0.88      0.88     38297\n",
            "weighted avg       0.88      0.88      0.88     38297\n",
            "\n",
            "Training Confusion Matrix:\n",
            "[[17614  2405]\n",
            " [ 2318 15960]]\n",
            "Test ROC AUC: 0.876522501129125\n",
            "\n",
            "\n",
            "Testing Metrics: \n",
            "Accuracy: 0.8633348999947777\n",
            "Classification Report:\n",
            "              precision    recall  f1-score   support\n",
            "\n",
            "           0       0.87      0.87      0.87     10016\n",
            "           1       0.86      0.86      0.86      9133\n",
            "\n",
            "    accuracy                           0.86     19149\n",
            "   macro avg       0.86      0.86      0.86     19149\n",
            "weighted avg       0.86      0.86      0.86     19149\n",
            "\n",
            "Confusion Matrix:\n",
            "[[8716 1300]\n",
            " [1317 7816]]\n",
            "Test ROC AUC: 0.8630026622902096\n",
            "Fold:   2\n",
            "PCA Model:  \n",
            "Training Metrics: \n",
            "Training Accuracy: 0.8764655194923885\n",
            "Training Classification Report:\n",
            "              precision    recall  f1-score   support\n",
            "\n",
            "           0       0.88      0.88      0.88     19933\n",
            "           1       0.87      0.87      0.87     18364\n",
            "\n",
            "    accuracy                           0.88     38297\n",
            "   macro avg       0.88      0.88      0.88     38297\n",
            "weighted avg       0.88      0.88      0.88     38297\n",
            "\n",
            "Training Confusion Matrix:\n",
            "[[17522  2411]\n",
            " [ 2320 16044]]\n",
            "Test ROC AUC: 0.8763553340414413\n",
            "\n",
            "\n",
            "Testing Metrics: \n",
            "Accuracy: 0.8605149093947465\n",
            "Classification Report:\n",
            "              precision    recall  f1-score   support\n",
            "\n",
            "           0       0.87      0.86      0.87     10102\n",
            "           1       0.85      0.86      0.85      9047\n",
            "\n",
            "    accuracy                           0.86     19149\n",
            "   macro avg       0.86      0.86      0.86     19149\n",
            "weighted avg       0.86      0.86      0.86     19149\n",
            "\n",
            "Confusion Matrix:\n",
            "[[8681 1421]\n",
            " [1250 7797]]\n",
            "Test ROC AUC: 0.8605837184493998\n",
            "Fold:   3\n",
            "PCA Model:  \n",
            "Training Metrics: \n",
            "Training Accuracy: 0.8732832001671106\n",
            "Training Classification Report:\n",
            "              precision    recall  f1-score   support\n",
            "\n",
            "           0       0.88      0.88      0.88     20118\n",
            "           1       0.86      0.87      0.87     18180\n",
            "\n",
            "    accuracy                           0.87     38298\n",
            "   macro avg       0.87      0.87      0.87     38298\n",
            "weighted avg       0.87      0.87      0.87     38298\n",
            "\n",
            "Training Confusion Matrix:\n",
            "[[17609  2509]\n",
            " [ 2344 15836]]\n",
            "Test ROC AUC: 0.873176460204923\n",
            "\n",
            "\n",
            "Testing Metrics: \n",
            "Accuracy: 0.8637455608940882\n",
            "Classification Report:\n",
            "              precision    recall  f1-score   support\n",
            "\n",
            "           0       0.87      0.87      0.87      9917\n",
            "           1       0.86      0.86      0.86      9231\n",
            "\n",
            "    accuracy                           0.86     19148\n",
            "   macro avg       0.86      0.86      0.86     19148\n",
            "weighted avg       0.86      0.86      0.86     19148\n",
            "\n",
            "Confusion Matrix:\n",
            "[[8584 1333]\n",
            " [1276 7955]]\n",
            "Test ROC AUC: 0.8636772362597425\n"
          ]
        }
      ]
    },
    {
      "cell_type": "code",
      "source": [],
      "metadata": {
        "id": "DyfYXhJEr6V0"
      },
      "execution_count": 1,
      "outputs": []
    }
  ]
}