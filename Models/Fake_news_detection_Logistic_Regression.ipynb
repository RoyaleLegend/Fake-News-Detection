{
  "nbformat": 4,
  "nbformat_minor": 0,
  "metadata": {
    "colab": {
      "provenance": []
    },
    "kernelspec": {
      "name": "python3",
      "display_name": "Python 3"
    },
    "language_info": {
      "name": "python"
    }
  },
  "cells": [
    {
      "cell_type": "code",
      "execution_count": 1,
      "metadata": {
        "id": "em4oykohKFAP"
      },
      "outputs": [],
      "source": [
        "# Import necessary libraries\n",
        "import pandas as pd\n",
        "import numpy as np\n",
        "from sklearn.linear_model import LinearRegression\n",
        "from sklearn.metrics import accuracy_score, classification_report, confusion_matrix\n",
        "from sklearn.feature_extraction.text import TfidfVectorizer \n",
        "from sklearn.model_selection import train_test_split, KFold\n",
        "from sklearn.preprocessing import LabelEncoder \n",
        "import matplotlib.pyplot as plt \n",
        "import pickle \n",
        "import joblib \n",
        "from sklearn.linear_model import LogisticRegression\n",
        "from sklearn.metrics import roc_auc_score\n",
        "# Perform text preprocessing using NLTK library\n",
        "from nltk.corpus import stopwords\n",
        "from nltk.stem.porter import PorterStemmer\n",
        "import re\n",
        "import nltk\n"
      ]
    },
    {
      "cell_type": "code",
      "source": [
        "#Load dataset\n",
        "df = pd.read_csv(\"/content/Datasets for the Detection.csv\", delimiter='\\t')\n",
        "\n",
        "\n",
        "# Change the column name\n",
        "new_col_names = {'ï»¿Label': 'Label'}\n",
        "df = df.rename(columns=new_col_names)\n",
        "\n",
        "\n",
        "# Drop an irrelevant column from the dataset\n",
        "df.drop(['Unnamed: 2'], axis=1, inplace=True)\n",
        "\n",
        "# Create a copy of the dataset\n",
        "df2 = df.copy()\n",
        "\n",
        "# Remove rows with missing values from the dataset\n",
        "df = df.dropna()\n",
        "\n",
        "# Reset the index of the dataset\n",
        "df2.reset_index(inplace=True)\n",
        "\n"
      ],
      "metadata": {
        "id": "Rgp3IHmiKOY8"
      },
      "execution_count": 2,
      "outputs": []
    },
    {
      "cell_type": "code",
      "source": [
        "# Download stopwords\n",
        "nltk.download('stopwords')\n",
        "\n",
        "# Initialize stemmer\n",
        "ps = PorterStemmer()\n",
        "\n"
      ],
      "metadata": {
        "id": "ZpF7EGw7Ksuz",
        "colab": {
          "base_uri": "https://localhost:8080/"
        },
        "outputId": "1f90a30f-30c7-4146-d82d-45e5a7e978b7"
      },
      "execution_count": 3,
      "outputs": [
        {
          "output_type": "stream",
          "name": "stderr",
          "text": [
            "[nltk_data] Downloading package stopwords to /root/nltk_data...\n",
            "[nltk_data]   Unzipping corpora/stopwords.zip.\n"
          ]
        }
      ]
    },
    {
      "cell_type": "code",
      "source": [
        "# Preprocess the data\n",
        "corpus = []\n",
        "for i in range(len(df)):\n",
        "    review = re.sub('[^a-zA-Z]', ' ', df['News'][i])\n",
        "    review = review.lower()\n",
        "    review = review.split()\n",
        "    review = [ps.stem(word) for word in review if not word in stopwords.words('english')]\n",
        "    review = ' '.join(review)\n",
        "    corpus.append(review)\n",
        "\n",
        "corpus = np.array(corpus)\n",
        "\n"
      ],
      "metadata": {
        "id": "piNyEPAUKRP2"
      },
      "execution_count": 4,
      "outputs": []
    },
    {
      "cell_type": "code",
      "source": [
        "# Create a TF-IDF vectorizer\n",
        "tfidf_v = TfidfVectorizer(max_features=5000, ngram_range=(1,3))\n",
        "\n",
        "# Vectorize the corpus\n",
        "X = tfidf_v.fit_transform(corpus).toarray()\n",
        "y = df['Label']\n",
        "\n"
      ],
      "metadata": {
        "id": "UpV7069NKTKr"
      },
      "execution_count": 5,
      "outputs": []
    },
    {
      "cell_type": "code",
      "source": [
        "# Convert labels to binary classes\n",
        "y_binary = np.where(y == 'Real', 1, 0)\n",
        "\n",
        "# Perform k-fold cross-validation with k=3\n",
        "kf = KFold(n_splits=3, shuffle=True, random_state=0)\n"
      ],
      "metadata": {
        "id": "1xuI8nU_KUJn"
      },
      "execution_count": 6,
      "outputs": []
    },
    {
      "cell_type": "code",
      "source": [
        "i=1\n",
        "print(\"Logistic Regression Model:  \")\n",
        "\n",
        "for train_index, test_index in kf.split(X):\n",
        "    # Split the dataset into training and testing sets\n",
        "    X_train, X_test = X[train_index], X[test_index]\n",
        "    y_train, y_test = y_binary[train_index], y_binary[test_index]\n",
        "\n",
        "\n",
        "    # Create a logistic regression model\n",
        "    logreg_model = LogisticRegression()\n",
        "    # Train the model\n",
        "    logreg_model.fit(X_train, y_train)\n",
        "\n",
        "    # Make predictions on the test set\n",
        "    y_pred = np.where(logreg_model.predict(X_test) >= 0.5, 1, 0)\n",
        "    # Make predictions on the training set\n",
        "    y_train_pred = np.where(logreg_model.predict(X_train) >= 0.5, 1, 0)\n",
        "\n",
        "    print(\"Fold:   \",i)\n",
        "\n",
        "    print(\"Training Metrics: \")\n",
        "    # Print the training metrics\n",
        "    print('Training Accuracy:', accuracy_score(y_train, y_train_pred))\n",
        "    print('Training Classification Report:')\n",
        "    print(classification_report(y_train, y_train_pred))\n",
        "    print('Training Confusion Matrix:')\n",
        "    print(confusion_matrix(y_train, y_train_pred))\n",
        "\n",
        "    # Calculate ROC AUC score\n",
        "    roc_auc = roc_auc_score(y_train, logreg_model.predict_proba(X_train)[:, 1])\n",
        "    # Print ROC AUC score\n",
        "    print('ROC AUC:', roc_auc)\n",
        "\n",
        "\n",
        "    print(\"\\n\\nTesting Metrics: \")\n",
        "    # Evaluate the model for test metrics\n",
        "    print('Test Accuracy:', accuracy_score(y_test, y_pred))\n",
        "    print('Test Classification Report:')\n",
        "    print(classification_report(y_test, y_pred))\n",
        "    print('Test Confusion Matrix:')\n",
        "    print(confusion_matrix(y_test, y_pred))\n",
        "\n",
        "    # Calculate ROC AUC score\n",
        "    roc_auc = roc_auc_score(y_test, logreg_model.predict_proba(X_test)[:, 1])\n",
        "    # Print ROC AUC score\n",
        "    print('ROC AUC:', roc_auc)\n",
        "\n",
        "    i=i+1"
      ],
      "metadata": {
        "id": "qQl3Z-ShKWIl",
        "colab": {
          "base_uri": "https://localhost:8080/"
        },
        "outputId": "5bf754d5-6466-4e45-aa82-1c5a623a76fb"
      },
      "execution_count": 7,
      "outputs": [
        {
          "output_type": "stream",
          "name": "stdout",
          "text": [
            "Logistic Regression Model:  \n",
            "Fold:    1\n",
            "Training Metrics: \n",
            "Training Accuracy: 0.8983732407238165\n",
            "Training Classification Report:\n",
            "              precision    recall  f1-score   support\n",
            "\n",
            "           0       0.90      0.90      0.90     20019\n",
            "           1       0.89      0.90      0.89     18278\n",
            "\n",
            "    accuracy                           0.90     38297\n",
            "   macro avg       0.90      0.90      0.90     38297\n",
            "weighted avg       0.90      0.90      0.90     38297\n",
            "\n",
            "Training Confusion Matrix:\n",
            "[[18041  1978]\n",
            " [ 1914 16364]]\n",
            "ROC AUC: 0.9631624385108575\n",
            "\n",
            "\n",
            "Testing Metrics: \n",
            "Test Accuracy: 0.8727870907096976\n",
            "Test Classification Report:\n",
            "              precision    recall  f1-score   support\n",
            "\n",
            "           0       0.88      0.88      0.88     10016\n",
            "           1       0.87      0.87      0.87      9133\n",
            "\n",
            "    accuracy                           0.87     19149\n",
            "   macro avg       0.87      0.87      0.87     19149\n",
            "weighted avg       0.87      0.87      0.87     19149\n",
            "\n",
            "Test Confusion Matrix:\n",
            "[[8783 1233]\n",
            " [1203 7930]]\n",
            "ROC AUC: 0.94613965842542\n",
            "Fold:    2\n",
            "Training Metrics: \n",
            "Training Accuracy: 0.8975115544298509\n",
            "Training Classification Report:\n",
            "              precision    recall  f1-score   support\n",
            "\n",
            "           0       0.90      0.90      0.90     19933\n",
            "           1       0.89      0.90      0.89     18364\n",
            "\n",
            "    accuracy                           0.90     38297\n",
            "   macro avg       0.90      0.90      0.90     38297\n",
            "weighted avg       0.90      0.90      0.90     38297\n",
            "\n",
            "Training Confusion Matrix:\n",
            "[[17912  2021]\n",
            " [ 1904 16460]]\n",
            "ROC AUC: 0.9629842443324321\n",
            "\n",
            "\n",
            "Testing Metrics: \n",
            "Test Accuracy: 0.8699671001096663\n",
            "Test Classification Report:\n",
            "              precision    recall  f1-score   support\n",
            "\n",
            "           0       0.88      0.87      0.88     10102\n",
            "           1       0.86      0.87      0.86      9047\n",
            "\n",
            "    accuracy                           0.87     19149\n",
            "   macro avg       0.87      0.87      0.87     19149\n",
            "weighted avg       0.87      0.87      0.87     19149\n",
            "\n",
            "Test Confusion Matrix:\n",
            "[[8791 1311]\n",
            " [1179 7868]]\n",
            "ROC AUC: 0.9468988660090643\n",
            "Fold:    3\n",
            "Training Metrics: \n",
            "Training Accuracy: 0.8971486761710794\n",
            "Training Classification Report:\n",
            "              precision    recall  f1-score   support\n",
            "\n",
            "           0       0.90      0.90      0.90     20118\n",
            "           1       0.89      0.89      0.89     18180\n",
            "\n",
            "    accuracy                           0.90     38298\n",
            "   macro avg       0.90      0.90      0.90     38298\n",
            "weighted avg       0.90      0.90      0.90     38298\n",
            "\n",
            "Training Confusion Matrix:\n",
            "[[18090  2028]\n",
            " [ 1911 16269]]\n",
            "ROC AUC: 0.9624208889225736\n",
            "\n",
            "\n",
            "Testing Metrics: \n",
            "Test Accuracy: 0.8770628786296218\n",
            "Test Classification Report:\n",
            "              precision    recall  f1-score   support\n",
            "\n",
            "           0       0.88      0.88      0.88      9917\n",
            "           1       0.87      0.87      0.87      9231\n",
            "\n",
            "    accuracy                           0.88     19148\n",
            "   macro avg       0.88      0.88      0.88     19148\n",
            "weighted avg       0.88      0.88      0.88     19148\n",
            "\n",
            "Test Confusion Matrix:\n",
            "[[8728 1189]\n",
            " [1165 8066]]\n",
            "ROC AUC: 0.9486732950327716\n"
          ]
        }
      ]
    },
    {
      "cell_type": "code",
      "source": [],
      "metadata": {
        "id": "MvLthlvvJzoX"
      },
      "execution_count": null,
      "outputs": []
    }
  ]
}