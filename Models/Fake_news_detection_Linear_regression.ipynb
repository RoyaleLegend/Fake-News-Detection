{
  "cells": [
    {
      "cell_type": "code",
      "execution_count": null,
      "metadata": {
        "id": "em4oykohKFAP"
      },
      "outputs": [],
      "source": [
        "# Import necessary libraries\n",
        "import pandas as pd\n",
        "import numpy as np\n",
        "from sklearn.linear_model import LinearRegression\n",
        "from sklearn.metrics import accuracy_score, classification_report, confusion_matrix\n",
        "from sklearn.feature_extraction.text import TfidfVectorizer \n",
        "from sklearn.model_selection import train_test_split, KFold \n",
        "from sklearn.preprocessing import LabelEncoder \n",
        "import matplotlib.pyplot as plt \n",
        "import pickle \n",
        "import joblib \n",
        "from sklearn.metrics import mean_squared_error\n",
        "# Perform text preprocessing using NLTK library\n",
        "from nltk.corpus import stopwords\n",
        "from nltk.stem.porter import PorterStemmer\n",
        "import re\n",
        "import nltk\n"
      ]
    },
    {
      "cell_type": "code",
      "execution_count": null,
      "metadata": {
        "colab": {
          "base_uri": "https://localhost:8080/"
        },
        "id": "EFILpgkQKe5s",
        "outputId": "551c84a0-46d8-4510-f32c-01e0a48d1d06"
      },
      "outputs": [
        {
          "name": "stdout",
          "output_type": "stream",
          "text": [
            "Drive already mounted at /content/drive; to attempt to forcibly remount, call drive.mount(\"/content/drive\", force_remount=True).\n"
          ]
        }
      ],
      "source": [
        "#mounting drive \n",
        "from google.colab import drive\n",
        "drive.mount('/content/drive')\n"
      ]
    },
    {
      "cell_type": "code",
      "execution_count": null,
      "metadata": {
        "id": "Rgp3IHmiKOY8"
      },
      "outputs": [],
      "source": [
        "#Load dataset\n",
        "df = pd.read_csv(\"/content/drive/MyDrive/ML Project/Datasets for the Detection.csv\", delimiter='\\t')\n",
        "\n",
        "\n",
        "# Change the column name\n",
        "new_col_names = {'ï»¿Label': 'Label'}\n",
        "df = df.rename(columns=new_col_names)\n",
        "\n",
        "\n",
        "# Drop an irrelevant column from the dataset\n",
        "df.drop(['Unnamed: 2'], axis=1, inplace=True)\n",
        "\n",
        "# Create a copy of the dataset\n",
        "df2 = df.copy()\n",
        "\n",
        "# Remove rows with missing values from the dataset\n",
        "df = df.dropna()\n",
        "\n",
        "# Reset the index of the dataset\n",
        "df2.reset_index(inplace=True)\n",
        "\n"
      ]
    },
    {
      "cell_type": "code",
      "execution_count": null,
      "metadata": {
        "colab": {
          "base_uri": "https://localhost:8080/"
        },
        "id": "ZpF7EGw7Ksuz",
        "outputId": "de903d23-bb39-461d-d888-2a26b0fc59f9"
      },
      "outputs": [
        {
          "name": "stderr",
          "output_type": "stream",
          "text": [
            "[nltk_data] Downloading package stopwords to /root/nltk_data...\n",
            "[nltk_data]   Package stopwords is already up-to-date!\n"
          ]
        }
      ],
      "source": [
        "# Download stopwords\n",
        "nltk.download('stopwords')\n",
        "\n",
        "# Initialize stemmer\n",
        "ps = PorterStemmer()\n",
        "\n"
      ]
    },
    {
      "cell_type": "code",
      "execution_count": null,
      "metadata": {
        "colab": {
          "background_save": true
        },
        "id": "piNyEPAUKRP2"
      },
      "outputs": [],
      "source": [
        "# Preprocess the data\n",
        "corpus = []\n",
        "for i in range(len(df)):\n",
        "\n",
        "    review = re.sub('[^a-zA-Z]', ' ', df['News'][i])\n",
        "    review = review.lower()\n",
        "    review = review.split()\n",
        "    review = [ps.stem(word) for word in review if not word in stopwords.words('english')]\n",
        "    review = ' '.join(review)\n",
        "    corpus.append(review)\n",
        "\n",
        "\n"
      ]
    },
    {
      "cell_type": "code",
      "execution_count": 11,
      "metadata": {
        "id": "UpV7069NKTKr"
      },
      "outputs": [],
      "source": [
        "# Create a TF-IDF vectorizer\n",
        "tfidf_v = TfidfVectorizer(max_features=5000, ngram_range=(1,3))\n",
        "\n",
        "# Vectorize the corpus\n",
        "X = tfidf_v.fit_transform(corpus).toarray()\n",
        "y = df['Label']"
      ]
    },
    {
      "cell_type": "code",
      "execution_count": 12,
      "metadata": {
        "id": "1xuI8nU_KUJn"
      },
      "outputs": [],
      "source": [
        "# Convert labels to binary classes\n",
        "y_binary = np.where(y == 'Real', 1, 0)\n",
        "\n",
        "# Perform k-fold cross-validation with k=3\n",
        "kf = KFold(n_splits=3, shuffle=True, random_state=0)\n"
      ]
    },
    {
      "cell_type": "code",
      "execution_count": 14,
      "metadata": {
        "id": "qQl3Z-ShKWIl",
        "colab": {
          "base_uri": "https://localhost:8080/"
        },
        "outputId": "ea699e53-3bfb-4243-f88c-2b2881da9cde"
      },
      "outputs": [
        {
          "output_type": "stream",
          "name": "stdout",
          "text": [
            "Linear Regression Model:  \n",
            "Fold:   1\n",
            "Training Metrics: \n",
            "Training Accuracy: 0.9098623913100243\n",
            "Training Classification Report:\n",
            "              precision    recall  f1-score   support\n",
            "\n",
            "           0       0.91      0.91      0.91     20019\n",
            "           1       0.91      0.90      0.91     18278\n",
            "\n",
            "    accuracy                           0.91     38297\n",
            "   macro avg       0.91      0.91      0.91     38297\n",
            "weighted avg       0.91      0.91      0.91     38297\n",
            "\n",
            "Training Confusion Matrix:\n",
            "[[18317  1702]\n",
            " [ 1750 16528]]\n",
            "Training Mean Squared Error (MSE): 0.09013760868997571\n",
            "\n",
            "\n",
            "Testing Metrics: \n",
            "Test Accuracy: 0.8610893519243825\n",
            "Test Classification Report:\n",
            "              precision    recall  f1-score   support\n",
            "\n",
            "           0       0.87      0.87      0.87     10016\n",
            "           1       0.85      0.85      0.85      9133\n",
            "\n",
            "    accuracy                           0.86     19149\n",
            "   macro avg       0.86      0.86      0.86     19149\n",
            "weighted avg       0.86      0.86      0.86     19149\n",
            "\n",
            "Test Confusion Matrix:\n",
            "[[8684 1332]\n",
            " [1328 7805]]\n",
            "Test Mean Squared Error (MSE): 0.13891064807561754\n",
            "Fold:   2\n",
            "Training Metrics: \n",
            "Training Accuracy: 0.9093140454865917\n",
            "Training Classification Report:\n",
            "              precision    recall  f1-score   support\n",
            "\n",
            "           0       0.91      0.91      0.91     19933\n",
            "           1       0.90      0.91      0.91     18364\n",
            "\n",
            "    accuracy                           0.91     38297\n",
            "   macro avg       0.91      0.91      0.91     38297\n",
            "weighted avg       0.91      0.91      0.91     38297\n",
            "\n",
            "Training Confusion Matrix:\n",
            "[[18184  1749]\n",
            " [ 1724 16640]]\n",
            "Training Mean Squared Error (MSE): 0.09068595451340836\n",
            "\n",
            "\n",
            "Testing Metrics: \n",
            "Test Accuracy: 0.858687137709541\n",
            "Test Classification Report:\n",
            "              precision    recall  f1-score   support\n",
            "\n",
            "           0       0.87      0.86      0.87     10102\n",
            "           1       0.85      0.86      0.85      9047\n",
            "\n",
            "    accuracy                           0.86     19149\n",
            "   macro avg       0.86      0.86      0.86     19149\n",
            "weighted avg       0.86      0.86      0.86     19149\n",
            "\n",
            "Test Confusion Matrix:\n",
            "[[8683 1419]\n",
            " [1287 7760]]\n",
            "Test Mean Squared Error (MSE): 0.14131286229045903\n",
            "Fold:   3\n",
            "Training Metrics: \n",
            "Training Accuracy: 0.9098386338712204\n",
            "Training Classification Report:\n",
            "              precision    recall  f1-score   support\n",
            "\n",
            "           0       0.91      0.91      0.91     20118\n",
            "           1       0.91      0.91      0.91     18180\n",
            "\n",
            "    accuracy                           0.91     38298\n",
            "   macro avg       0.91      0.91      0.91     38298\n",
            "weighted avg       0.91      0.91      0.91     38298\n",
            "\n",
            "Training Confusion Matrix:\n",
            "[[18391  1727]\n",
            " [ 1726 16454]]\n",
            "Training Mean Squared Error (MSE): 0.09016136612877958\n",
            "\n",
            "\n",
            "Testing Metrics: \n",
            "Test Accuracy: 0.8610820973469814\n",
            "Test Classification Report:\n",
            "              precision    recall  f1-score   support\n",
            "\n",
            "           0       0.87      0.87      0.87      9917\n",
            "           1       0.86      0.86      0.86      9231\n",
            "\n",
            "    accuracy                           0.86     19148\n",
            "   macro avg       0.86      0.86      0.86     19148\n",
            "weighted avg       0.86      0.86      0.86     19148\n",
            "\n",
            "Test Confusion Matrix:\n",
            "[[8582 1335]\n",
            " [1325 7906]]\n",
            "Test Mean Squared Error (MSE): 0.1389179026530186\n"
          ]
        }
      ],
      "source": [
        "i=1\n",
        "print(\"Linear Regression Model:  \")\n",
        "for train_index, test_index in kf.split(X):\n",
        "    # Split the dataset into training and testing sets\n",
        "    X_train, X_test = X[train_index], X[test_index]\n",
        "    y_train, y_test = y_binary[train_index], y_binary[test_index]\n",
        "\n",
        "    # Train the linear regression model\n",
        "    regressor = LinearRegression()\n",
        "    regressor.fit(X_train, y_train)\n",
        "\n",
        "    # Make predictions on the test set\n",
        "    y_pred = np.where(regressor.predict(X_test) >= 0.5, 1, 0)\n",
        "    \n",
        "    # Make predictions on the test set\n",
        "    y_train_pred = np.where(regressor.predict(X_train) >= 0.5, 1, 0)\n",
        "\n",
        "\n",
        "    # Calculate accuracy and MSE for the current fold\n",
        "    accuracy = accuracy_score(y_test, y_pred)\n",
        "    mse = mean_squared_error(y_test, y_pred)\n",
        "\n",
        "    print(\"Fold:  \",i)\n",
        "    print(\"Training Metrics: \")\n",
        "    # Print the training metrics\n",
        "    print('Training Accuracy:', accuracy_score(y_train, y_train_pred))\n",
        "    print('Training Classification Report:')\n",
        "    print(classification_report(y_train, y_train_pred))\n",
        "    print('Training Confusion Matrix:')\n",
        "    print(confusion_matrix(y_train, y_train_pred))\n",
        "\n",
        "    # Calculate training MSE\n",
        "    train_mse = mean_squared_error(y_train, y_train_pred)\n",
        "    print('Training Mean Squared Error (MSE):', train_mse)\n",
        "\n",
        "    print(\"\\n\\nTesting Metrics: \")\n",
        "    # Evaluate the model for test metrics\n",
        "    print('Test Accuracy:', accuracy_score(y_test, y_pred))\n",
        "    print('Test Classification Report:')\n",
        "    print(classification_report(y_test, y_pred))\n",
        "    print('Test Confusion Matrix:')\n",
        "    print(confusion_matrix(y_test, y_pred))\n",
        "    # Calculate test MSE\n",
        "    mse = mean_squared_error(y_test, y_pred)\n",
        "    print('Test Mean Squared Error (MSE):', mse)\n",
        "\n",
        "    i=i+1"
      ]
    },
    {
      "cell_type": "code",
      "execution_count": 13,
      "metadata": {
        "id": "3DKnB1RwzqPx"
      },
      "outputs": [],
      "source": []
    }
  ],
  "metadata": {
    "colab": {
      "provenance": []
    },
    "kernelspec": {
      "display_name": "Python 3",
      "name": "python3"
    },
    "language_info": {
      "name": "python"
    }
  },
  "nbformat": 4,
  "nbformat_minor": 0
}