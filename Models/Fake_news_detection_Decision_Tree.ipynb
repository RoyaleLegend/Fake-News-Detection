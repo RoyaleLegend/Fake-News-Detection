{
  "nbformat": 4,
  "nbformat_minor": 0,
  "metadata": {
    "colab": {
      "provenance": []
    },
    "kernelspec": {
      "name": "python3",
      "display_name": "Python 3"
    },
    "language_info": {
      "name": "python"
    }
  },
  "cells": [
    {
      "cell_type": "code",
      "execution_count": 1,
      "metadata": {
        "id": "em4oykohKFAP"
      },
      "outputs": [],
      "source": [
        "# Import necessary libraries\n",
        "import pandas as pd\n",
        "import numpy as np\n",
        "from sklearn.linear_model import LinearRegression\n",
        "from sklearn.metrics import accuracy_score, classification_report, confusion_matrix\n",
        "from sklearn.feature_extraction.text import TfidfVectorizer \n",
        "from sklearn.model_selection import train_test_split, KFold\n",
        "from sklearn.preprocessing import LabelEncoder \n",
        "import matplotlib.pyplot as plt \n",
        "import pickle \n",
        "import joblib \n",
        "from sklearn.tree import DecisionTreeClassifier\n",
        "from sklearn.metrics import roc_auc_score\n",
        "# Perform text preprocessing using NLTK library\n",
        "from nltk.corpus import stopwords\n",
        "from nltk.stem.porter import PorterStemmer\n",
        "import re\n",
        "import nltk\n"
      ]
    },
    {
      "cell_type": "code",
      "source": [
        "#Load dataset\n",
        "df = pd.read_csv(\"/content/Datasets for the Detection.csv\", delimiter='\\t')\n",
        "\n",
        "\n",
        "# Change the column name\n",
        "new_col_names = {'ï»¿Label': 'Label'}\n",
        "df = df.rename(columns=new_col_names)\n",
        "\n",
        "\n",
        "# Drop an irrelevant column from the dataset\n",
        "df.drop(['Unnamed: 2'], axis=1, inplace=True)\n",
        "\n",
        "# Create a copy of the dataset\n",
        "df2 = df.copy()\n",
        "\n",
        "# Remove rows with missing values from the dataset\n",
        "df = df.dropna()\n",
        "\n",
        "# Reset the index of the dataset\n",
        "df2.reset_index(inplace=True)\n",
        "\n"
      ],
      "metadata": {
        "id": "Rgp3IHmiKOY8"
      },
      "execution_count": 2,
      "outputs": []
    },
    {
      "cell_type": "code",
      "source": [
        "# Download stopwords\n",
        "nltk.download('stopwords')\n",
        "\n",
        "# Initialize stemmer\n",
        "ps = PorterStemmer()\n",
        "\n"
      ],
      "metadata": {
        "id": "ZpF7EGw7Ksuz",
        "colab": {
          "base_uri": "https://localhost:8080/"
        },
        "outputId": "7d55aa8c-f739-4378-fc6e-d3e90391a2de"
      },
      "execution_count": 3,
      "outputs": [
        {
          "output_type": "stream",
          "name": "stderr",
          "text": [
            "[nltk_data] Downloading package stopwords to /root/nltk_data...\n",
            "[nltk_data]   Unzipping corpora/stopwords.zip.\n"
          ]
        }
      ]
    },
    {
      "cell_type": "code",
      "source": [
        "# Preprocess the data\n",
        "corpus = []\n",
        "for i in range(len(df)):\n",
        "    review = re.sub('[^a-zA-Z]', ' ', df['News'][i])\n",
        "    review = review.lower()\n",
        "    review = review.split()\n",
        "    review = [ps.stem(word) for word in review if not word in stopwords.words('english')]\n",
        "    review = ' '.join(review)\n",
        "    corpus.append(review)\n",
        "\n",
        "corpus = np.array(corpus)\n",
        "\n"
      ],
      "metadata": {
        "id": "piNyEPAUKRP2"
      },
      "execution_count": 4,
      "outputs": []
    },
    {
      "cell_type": "code",
      "source": [
        "# Create a TF-IDF vectorizer\n",
        "tfidf_v = TfidfVectorizer(max_features=5000, ngram_range=(1,3))\n",
        "\n",
        "# Vectorize the corpus\n",
        "X = tfidf_v.fit_transform(corpus).toarray()\n",
        "y = df['Label']\n",
        "\n"
      ],
      "metadata": {
        "id": "UpV7069NKTKr"
      },
      "execution_count": 5,
      "outputs": []
    },
    {
      "cell_type": "code",
      "source": [
        "# Convert labels to binary classes\n",
        "y_binary = np.where(y == 'Real', 1, 0)\n",
        "\n",
        "# Perform K-fold cross-validation with k=3\n",
        "kf = KFold(n_splits=3, shuffle=True, random_state=0)\n"
      ],
      "metadata": {
        "id": "1xuI8nU_KUJn"
      },
      "execution_count": 8,
      "outputs": []
    },
    {
      "cell_type": "code",
      "source": [
        "# Create a decision tree classifier\n",
        "model = DecisionTreeClassifier()\n",
        "i=1\n",
        "print(\"Decision Tree Model:  \")\n",
        "\n",
        "for train_index, test_index in kf.split(X):\n",
        "    X_train, X_test = X[train_index], X[test_index]\n",
        "    y_train, y_test = y_binary[train_index], y_binary[test_index]\n",
        "\n",
        "    # Train the model\n",
        "    model.fit(X_train, y_train)\n",
        "\n",
        "    # Evaluate the model on the test set\n",
        "    y_pred = model.predict(X_test)\n",
        "\n",
        "    # Evaluate the model on the train set\n",
        "    y_train_pred = model.predict(X_train)\n",
        "\n",
        "    print(\"Fold  : \",i)\n",
        "\n",
        "\n",
        "    print(\"Training Metrics: \")\n",
        "    # Print the training metrics\n",
        "    print('Training Accuracy:', accuracy_score(y_train, y_train_pred))\n",
        "    print('Training Classification Report:')\n",
        "    print(classification_report(y_train, y_train_pred))\n",
        "    print('Training Confusion Matrix:')\n",
        "    print(confusion_matrix(y_train, y_train_pred))\n",
        "\n",
        "    # Calculate ROC AUC score\n",
        "    roc_auc = roc_auc_score(y_train, model.predict_proba(X_train)[:, 1])\n",
        "    # Print ROC AUC score\n",
        "    print('ROC AUC:', roc_auc)\n",
        "\n",
        "\n",
        "    print(\"\\n\\nTesting Metrics: \")\n",
        "    # Evaluate the model for test metrics\n",
        "    print('Test Accuracy:', accuracy_score(y_test, y_pred))\n",
        "    print('Test Classification Report:')\n",
        "    print(classification_report(y_test, y_pred))\n",
        "    print('Test Confusion Matrix:')\n",
        "    print(confusion_matrix(y_test, y_pred))\n",
        "\n",
        "    # Calculate ROC AUC score\n",
        "    roc_auc = roc_auc_score(y_test, model.predict_proba(X_test)[:, 1])\n",
        "    # Print ROC AUC score\n",
        "    print('ROC AUC:', roc_auc)\n",
        "\n",
        "    i=i+1"
      ],
      "metadata": {
        "id": "qQl3Z-ShKWIl",
        "colab": {
          "base_uri": "https://localhost:8080/"
        },
        "outputId": "427e5908-a5ee-40d9-d641-bab10ad2c5be"
      },
      "execution_count": 9,
      "outputs": [
        {
          "output_type": "stream",
          "name": "stdout",
          "text": [
            "Decision Tree Model:  \n",
            "Fold  :  1\n",
            "Training Metrics: \n",
            "Training Accuracy: 0.9958743504713163\n",
            "Training Classification Report:\n",
            "              precision    recall  f1-score   support\n",
            "\n",
            "           0       0.99      1.00      1.00     20019\n",
            "           1       1.00      0.99      1.00     18278\n",
            "\n",
            "    accuracy                           1.00     38297\n",
            "   macro avg       1.00      1.00      1.00     38297\n",
            "weighted avg       1.00      1.00      1.00     38297\n",
            "\n",
            "Training Confusion Matrix:\n",
            "[[20005    14]\n",
            " [  144 18134]]\n",
            "ROC AUC: 0.999964337960347\n",
            "\n",
            "\n",
            "Testing Metrics: \n",
            "Test Accuracy: 0.8274061308684527\n",
            "Test Classification Report:\n",
            "              precision    recall  f1-score   support\n",
            "\n",
            "           0       0.84      0.83      0.83     10016\n",
            "           1       0.82      0.82      0.82      9133\n",
            "\n",
            "    accuracy                           0.83     19149\n",
            "   macro avg       0.83      0.83      0.83     19149\n",
            "weighted avg       0.83      0.83      0.83     19149\n",
            "\n",
            "Test Confusion Matrix:\n",
            "[[8345 1671]\n",
            " [1634 7499]]\n",
            "ROC AUC: 0.8322558974074635\n",
            "Fold  :  2\n",
            "Training Metrics: \n",
            "Training Accuracy: 0.9960310207065828\n",
            "Training Classification Report:\n",
            "              precision    recall  f1-score   support\n",
            "\n",
            "           0       0.99      1.00      1.00     19933\n",
            "           1       1.00      0.99      1.00     18364\n",
            "\n",
            "    accuracy                           1.00     38297\n",
            "   macro avg       1.00      1.00      1.00     38297\n",
            "weighted avg       1.00      1.00      1.00     38297\n",
            "\n",
            "Training Confusion Matrix:\n",
            "[[19924     9]\n",
            " [  143 18221]]\n",
            "ROC AUC: 0.9999666138151787\n",
            "\n",
            "\n",
            "Testing Metrics: \n",
            "Test Accuracy: 0.830226121468484\n",
            "Test Classification Report:\n",
            "              precision    recall  f1-score   support\n",
            "\n",
            "           0       0.83      0.85      0.84     10102\n",
            "           1       0.83      0.81      0.82      9047\n",
            "\n",
            "    accuracy                           0.83     19149\n",
            "   macro avg       0.83      0.83      0.83     19149\n",
            "weighted avg       0.83      0.83      0.83     19149\n",
            "\n",
            "Test Confusion Matrix:\n",
            "[[8558 1544]\n",
            " [1707 7340]]\n",
            "ROC AUC: 0.833743062937763\n",
            "Fold  :  3\n",
            "Training Metrics: \n",
            "Training Accuracy: 0.9959789022925479\n",
            "Training Classification Report:\n",
            "              precision    recall  f1-score   support\n",
            "\n",
            "           0       0.99      1.00      1.00     20118\n",
            "           1       1.00      0.99      1.00     18180\n",
            "\n",
            "    accuracy                           1.00     38298\n",
            "   macro avg       1.00      1.00      1.00     38298\n",
            "weighted avg       1.00      1.00      1.00     38298\n",
            "\n",
            "Training Confusion Matrix:\n",
            "[[20099    19]\n",
            " [  135 18045]]\n",
            "ROC AUC: 0.9999664110461151\n",
            "\n",
            "\n",
            "Testing Metrics: \n",
            "Test Accuracy: 0.8267704198871945\n",
            "Test Classification Report:\n",
            "              precision    recall  f1-score   support\n",
            "\n",
            "           0       0.83      0.84      0.83      9917\n",
            "           1       0.82      0.81      0.82      9231\n",
            "\n",
            "    accuracy                           0.83     19148\n",
            "   macro avg       0.83      0.83      0.83     19148\n",
            "weighted avg       0.83      0.83      0.83     19148\n",
            "\n",
            "Test Confusion Matrix:\n",
            "[[8323 1594]\n",
            " [1723 7508]]\n",
            "ROC AUC: 0.830327341460173\n"
          ]
        }
      ]
    },
    {
      "cell_type": "code",
      "source": [],
      "metadata": {
        "id": "_t6-NFcbVNdj"
      },
      "execution_count": null,
      "outputs": []
    }
  ]
}