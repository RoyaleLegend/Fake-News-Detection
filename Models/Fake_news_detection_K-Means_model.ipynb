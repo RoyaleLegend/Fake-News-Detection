{
  "cells": [
    {
      "cell_type": "code",
      "execution_count": 2,
      "metadata": {
        "id": "em4oykohKFAP"
      },
      "outputs": [],
      "source": [
        "# Import necessary libraries for data analysis and preprocessing\n",
        "import pandas as pd\n",
        "import numpy as np\n",
        "from sklearn.metrics import accuracy_score\n",
        "from sklearn.metrics import roc_auc_score\n",
        "import tensorflow as tf\n",
        "from sklearn.feature_extraction.text import TfidfVectorizer\n",
        "from sklearn.model_selection import train_test_split, KFold\n",
        "from sklearn.preprocessing import LabelEncoder\n",
        "from sklearn.metrics import classification_report, confusion_matrix\n",
        "import matplotlib.pyplot as plt\n",
        "import pickle\n",
        "import joblib\n",
        "from nltk.corpus import stopwords\n",
        "from nltk.stem.porter import PorterStemmer\n",
        "import re\n",
        "import nltk\n",
        "from sklearn.cluster import KMeans\n"
      ]
    },
    {
      "cell_type": "code",
      "execution_count": 4,
      "metadata": {
        "colab": {
          "base_uri": "https://localhost:8080/"
        },
        "id": "EFILpgkQKe5s",
        "outputId": "055da56c-9ff5-4fc7-fb14-1afdb99687c2"
      },
      "outputs": [
        {
          "output_type": "stream",
          "name": "stdout",
          "text": [
            "Mounted at /content/drive\n"
          ]
        }
      ],
      "source": [
        "#mounting drive \n",
        "from google.colab import drive\n",
        "drive.mount('/content/drive')\n"
      ]
    },
    {
      "cell_type": "code",
      "execution_count": 5,
      "metadata": {
        "id": "Rgp3IHmiKOY8"
      },
      "outputs": [],
      "source": [
        "#Load dataset\n",
        "df = pd.read_csv(\"/content/drive/MyDrive/ML Project/Datasets for the Detection.csv\", delimiter='\\t')\n",
        "\n",
        "\n",
        "# Change the column name\n",
        "new_col_names = {'ï»¿Label': 'Label'}\n",
        "df = df.rename(columns=new_col_names)\n",
        "\n",
        "\n",
        "# Drop an irrelevant column from the dataset\n",
        "df.drop(['Unnamed: 2'], axis=1, inplace=True)\n",
        "\n",
        "# Create a copy of the dataset\n",
        "df2 = df.copy()\n",
        "\n",
        "# Remove rows with missing values from the dataset\n",
        "df = df.dropna()\n",
        "\n",
        "# Reset the index of the dataset\n",
        "df2.reset_index(inplace=True)\n",
        "\n"
      ]
    },
    {
      "cell_type": "code",
      "execution_count": 6,
      "metadata": {
        "colab": {
          "base_uri": "https://localhost:8080/"
        },
        "id": "ZpF7EGw7Ksuz",
        "outputId": "f3e1ff71-a78b-48ab-9d00-5e942f0f38c6"
      },
      "outputs": [
        {
          "output_type": "stream",
          "name": "stderr",
          "text": [
            "[nltk_data] Downloading package stopwords to /root/nltk_data...\n",
            "[nltk_data]   Unzipping corpora/stopwords.zip.\n"
          ]
        }
      ],
      "source": [
        "# Download stopwords\n",
        "nltk.download('stopwords')\n",
        "\n",
        "# Initialize stemmer\n",
        "ps = PorterStemmer()\n",
        "\n"
      ]
    },
    {
      "cell_type": "code",
      "execution_count": 7,
      "metadata": {
        "id": "piNyEPAUKRP2"
      },
      "outputs": [],
      "source": [
        "# Preprocess the data\n",
        "corpus = []\n",
        "for i in range(len(df)):\n",
        "\n",
        "    review = re.sub('[^a-zA-Z]', ' ', df['News'][i])\n",
        "    review = review.lower()\n",
        "    review = review.split()\n",
        "    review = [ps.stem(word) for word in review if not word in stopwords.words('english')]\n",
        "    review = ' '.join(review)\n",
        "    corpus.append(review)\n",
        "\n",
        "\n"
      ]
    },
    {
      "cell_type": "code",
      "execution_count": 8,
      "metadata": {
        "id": "UpV7069NKTKr"
      },
      "outputs": [],
      "source": [
        "# Create a TF-IDF vectorizer\n",
        "tfidf_v = TfidfVectorizer(max_features=5000, ngram_range=(1,3))\n",
        "\n",
        "# Vectorize the corpus\n",
        "X = tfidf_v.fit_transform(corpus).toarray()\n",
        "y = df['Label']\n",
        "\n"
      ]
    },
    {
      "cell_type": "code",
      "execution_count": 10,
      "metadata": {
        "id": "1xuI8nU_KUJn"
      },
      "outputs": [],
      "source": [
        "# Convert labels to binary classes\n",
        "y_binary = np.where(y == 'Real', 1, 0)\n",
        "\n",
        "# Perform k-fold cross-validation with k=3\n",
        "kfold = KFold(n_splits=3, shuffle=True, random_state=0)"
      ]
    },
    {
      "cell_type": "code",
      "execution_count": 11,
      "metadata": {
        "colab": {
          "base_uri": "https://localhost:8080/"
        },
        "id": "qQl3Z-ShKWIl",
        "outputId": "e67f4611-dd7a-4f34-bc8f-b6c2136b1150"
      },
      "outputs": [
        {
          "output_type": "stream",
          "name": "stdout",
          "text": [
            "K-Means Model:  \n"
          ]
        },
        {
          "output_type": "stream",
          "name": "stderr",
          "text": [
            "/usr/local/lib/python3.10/dist-packages/sklearn/cluster/_kmeans.py:870: FutureWarning: The default value of `n_init` will change from 10 to 'auto' in 1.4. Set the value of `n_init` explicitly to suppress the warning\n",
            "  warnings.warn(\n"
          ]
        },
        {
          "output_type": "stream",
          "name": "stdout",
          "text": [
            "Fold:   1\n",
            "Training Metrics: \n",
            "Train Accuracy: 0.47040238138757606\n",
            "Train Classification Report:\n",
            "              precision    recall  f1-score   support\n",
            "\n",
            "           0       0.50      0.68      0.57     20019\n",
            "           1       0.41      0.24      0.30     18278\n",
            "\n",
            "    accuracy                           0.47     38297\n",
            "   macro avg       0.45      0.46      0.44     38297\n",
            "weighted avg       0.45      0.47      0.44     38297\n",
            "\n",
            "Train Confusion Matrix:\n",
            "[[13644  6375]\n",
            " [13907  4371]]\n",
            "Train ROC AUC: 0.4603462373837096\n",
            "\n",
            "\n",
            "Testing Metrics: \n",
            "Test Accuracy: 0.47616063502010547\n",
            "Test Classification Report:\n",
            "              precision    recall  f1-score   support\n",
            "\n",
            "           0       0.50      0.69      0.58     10016\n",
            "           1       0.42      0.24      0.31      9133\n",
            "\n",
            "    accuracy                           0.48     19149\n",
            "   macro avg       0.46      0.47      0.44     19149\n",
            "weighted avg       0.46      0.48      0.45     19149\n",
            "\n",
            "Test Confusion Matrix:\n",
            "[[6905 3111]\n",
            " [6920 2213]]\n",
            "Test ROC AUC: 0.46585253914551344\n"
          ]
        },
        {
          "output_type": "stream",
          "name": "stderr",
          "text": [
            "/usr/local/lib/python3.10/dist-packages/sklearn/cluster/_kmeans.py:870: FutureWarning: The default value of `n_init` will change from 10 to 'auto' in 1.4. Set the value of `n_init` explicitly to suppress the warning\n",
            "  warnings.warn(\n"
          ]
        },
        {
          "output_type": "stream",
          "name": "stdout",
          "text": [
            "Fold:   2\n",
            "Training Metrics: \n",
            "Train Accuracy: 0.527743687495104\n",
            "Train Classification Report:\n",
            "              precision    recall  f1-score   support\n",
            "\n",
            "           0       0.59      0.31      0.41     19933\n",
            "           1       0.51      0.76      0.61     18364\n",
            "\n",
            "    accuracy                           0.53     38297\n",
            "   macro avg       0.55      0.54      0.51     38297\n",
            "weighted avg       0.55      0.53      0.50     38297\n",
            "\n",
            "Train Confusion Matrix:\n",
            "[[ 6265 13668]\n",
            " [ 4418 13946]]\n",
            "Train ROC AUC: 0.5368617601485124\n",
            "\n",
            "\n",
            "Testing Metrics: \n",
            "Test Accuracy: 0.5278604626873465\n",
            "Test Classification Report:\n",
            "              precision    recall  f1-score   support\n",
            "\n",
            "           0       0.60      0.32      0.42     10102\n",
            "           1       0.50      0.76      0.60      9047\n",
            "\n",
            "    accuracy                           0.53     19149\n",
            "   macro avg       0.55      0.54      0.51     19149\n",
            "weighted avg       0.55      0.53      0.50     19149\n",
            "\n",
            "Test Confusion Matrix:\n",
            "[[3227 6875]\n",
            " [2166 6881]]\n",
            "Test ROC AUC: 0.5400126567965522\n"
          ]
        },
        {
          "output_type": "stream",
          "name": "stderr",
          "text": [
            "/usr/local/lib/python3.10/dist-packages/sklearn/cluster/_kmeans.py:870: FutureWarning: The default value of `n_init` will change from 10 to 'auto' in 1.4. Set the value of `n_init` explicitly to suppress the warning\n",
            "  warnings.warn(\n"
          ]
        },
        {
          "output_type": "stream",
          "name": "stdout",
          "text": [
            "Fold:   3\n",
            "Training Metrics: \n",
            "Train Accuracy: 0.5257976917854719\n",
            "Train Classification Report:\n",
            "              precision    recall  f1-score   support\n",
            "\n",
            "           0       0.59      0.32      0.41     20118\n",
            "           1       0.50      0.76      0.60     18180\n",
            "\n",
            "    accuracy                           0.53     38298\n",
            "   macro avg       0.55      0.54      0.51     38298\n",
            "weighted avg       0.55      0.53      0.50     38298\n",
            "\n",
            "Train Confusion Matrix:\n",
            "[[ 6338 13780]\n",
            " [ 4381 13799]]\n",
            "Train ROC AUC: 0.5370310793381754\n",
            "\n",
            "\n",
            "Testing Metrics: \n",
            "Test Accuracy: 0.5314393148109463\n",
            "Test Classification Report:\n",
            "              precision    recall  f1-score   support\n",
            "\n",
            "           0       0.59      0.32      0.41      9917\n",
            "           1       0.51      0.76      0.61      9231\n",
            "\n",
            "    accuracy                           0.53     19148\n",
            "   macro avg       0.55      0.54      0.51     19148\n",
            "weighted avg       0.55      0.53      0.51     19148\n",
            "\n",
            "Test Confusion Matrix:\n",
            "[[3150 6767]\n",
            " [2205 7026]]\n",
            "Test ROC AUC: 0.5393836768480305\n"
          ]
        }
      ],
      "source": [
        "i=1\n",
        "# Create a K-means classifier\n",
        "model = KMeans(n_clusters=2)\n",
        "print(\"K-Means Model:  \")\n",
        "\n",
        "\n",
        "for train_index, test_index in kfold.split(X):\n",
        "    X_train, X_test = X[train_index], X[test_index]\n",
        "    y_train, y_test = y_binary[train_index], y_binary[test_index]\n",
        "\n",
        "    # Train the model\n",
        "    model.fit(X_train)\n",
        "\n",
        "    # Predict cluster labels for the test set\n",
        "    y_pred_test = model.predict(X_test)\n",
        "    # Predict cluster labels for the test set\n",
        "    y_pred_train = model.predict(X_train)\n",
        "\n",
        "    # Convert cluster labels to binary classes\n",
        "    y_pred_test_binary = np.where(y_pred_test == 1, 1, 0)\n",
        "    # Convert cluster labels to binary classes\n",
        "    y_pred_train_binary = np.where(y_pred_train == 1, 1, 0)\n",
        "\n",
        "    print(\"Fold:  \",i)\n",
        "    print(\"Training Metrics: \")\n",
        "    # Print the training metrics\n",
        "    # Evaluate the model\n",
        "    print('Train Accuracy:', accuracy_score(y_train, y_pred_train_binary))\n",
        "    print('Train Classification Report:')\n",
        "    print(classification_report(y_train, y_pred_train_binary))\n",
        "    print('Train Confusion Matrix:')\n",
        "    print(confusion_matrix(y_train, y_pred_train_binary))\n",
        "    # Calculate ROC AUC\n",
        "    roc_auc = roc_auc_score(y_train, y_pred_train_binary)\n",
        "    print('Train ROC AUC:', roc_auc)\n",
        "\n",
        "    print(\"\\n\\nTesting Metrics: \")\n",
        "    # Print the testing metrics\n",
        "    print('Test Accuracy:', accuracy_score(y_test, y_pred_test_binary))\n",
        "    print('Test Classification Report:')\n",
        "    print(classification_report(y_test, y_pred_test_binary))\n",
        "    print('Test Confusion Matrix:')\n",
        "    print(confusion_matrix(y_test, y_pred_test_binary))\n",
        "    # Calculate ROC AUC\n",
        "    roc_auc = roc_auc_score(y_test, y_pred_test_binary)\n",
        "    print('Test ROC AUC:', roc_auc)\n",
        "\n",
        "    i=i+1\n"
      ]
    },
    {
      "cell_type": "code",
      "execution_count": null,
      "metadata": {
        "colab": {
          "base_uri": "https://localhost:8080/"
        },
        "id": "tF55BNRWKXM3",
        "outputId": "8c92c6e7-e483-4471-9c90-99098e0bd34f"
      },
      "outputs": [
        {
          "output_type": "stream",
          "name": "stdout",
          "text": [
            "K-Means Model:  \n",
            "Training Metrics: \n",
            "Train Accuracy: 0.4741709461223779\n",
            "Train Classification Report:\n",
            "              precision    recall  f1-score   support\n",
            "\n",
            "           0       0.50      0.64      0.56     24029\n",
            "           1       0.42      0.29      0.34     21927\n",
            "\n",
            "    accuracy                           0.47     45956\n",
            "   macro avg       0.46      0.47      0.45     45956\n",
            "weighted avg       0.46      0.47      0.46     45956\n",
            "\n",
            "Train Confusion Matrix:\n",
            "[[15475  8554]\n",
            " [15611  6316]]\n",
            "Train ROC AUC: 0.46603009206110035\n",
            "\n",
            "\n",
            "Testing Metrics: \n",
            "Test Accuracy: 0.4820713664055701\n",
            "Test Classification Report:\n",
            "              precision    recall  f1-score   support\n",
            "\n",
            "           0       0.50      0.66      0.57      6006\n",
            "           1       0.44      0.29      0.35      5484\n",
            "\n",
            "    accuracy                           0.48     11490\n",
            "   macro avg       0.47      0.47      0.46     11490\n",
            "weighted avg       0.47      0.48      0.46     11490\n",
            "\n",
            "Test Confusion Matrix:\n",
            "[[3935 2071]\n",
            " [3880 1604]]\n",
            "Test ROC AUC: 0.47383269538630596\n"
          ]
        }
      ],
      "source": []
    },
    {
      "cell_type": "code",
      "source": [],
      "metadata": {
        "id": "s0xURtYmCjwx"
      },
      "execution_count": null,
      "outputs": []
    }
  ],
  "metadata": {
    "colab": {
      "provenance": []
    },
    "kernelspec": {
      "display_name": "Python 3",
      "name": "python3"
    },
    "language_info": {
      "name": "python"
    }
  },
  "nbformat": 4,
  "nbformat_minor": 0
}